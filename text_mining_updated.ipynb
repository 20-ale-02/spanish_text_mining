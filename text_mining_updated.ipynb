{
 "cells": [
  {
   "cell_type": "markdown",
   "metadata": {},
   "source": [
    "## Conclusion\n",
    "This exercise demonstrated basic sentiment analysis techniques in Spanish, highlighting the importance of good preprocessing and model limitations in multilingual contexts."
   ]
  },
  {
   "cell_type": "markdown",
   "metadata": {},
   "source": [
    "## Results & Observations\n",
    "We observed that the sentiment classifier handles short and clear phrases better than complex or ambiguous news content. In some cases, nuance is lost, especially with neutral or mixed sentiment texts. This suggests potential improvements could be made by fine-tuning models or using hybrid approaches."
   ]
  },
  {
   "cell_type": "markdown",
   "metadata": {},
   "source": [
    "## Step 3: Sentiment Analysis on News Snippets\n",
    "We now analyze multiple news excerpts, evaluating whether the sentiment analysis captures tone and polarity appropriately."
   ]
  },
  {
   "cell_type": "markdown",
   "metadata": {},
   "source": [
    "## Step 2: Sentiment Analysis on Phrases\n",
    "After preprocessing, we apply sentiment classification to several sample phrases. The output will give us a polarity score (positive or negative)."
   ]
  },
  {
   "cell_type": "markdown",
   "metadata": {},
   "source": [
    "## Step 1: Load Libraries and Preprocess Text\n",
    "We begin by importing necessary libraries and defining cleaning functions to prepare the text data."
   ]
  },
  {
   "cell_type": "markdown",
   "metadata": {},
   "source": [
    "## Objective\n",
    "Apply text preprocessing techniques and perform sentiment analysis on a set of custom phrases and news articles written in Spanish. We aim to understand how sentiment analysis works in a non-English context and compare the results across different types of content."
   ]
  },
  {
   "cell_type": "markdown",
   "metadata": {},
   "source": [
    "# Sentiment Analysis on Spanish Texts\n",
    "\n",
    "**Authors:** Maria Alejandra Aponte\n",
    "\n",
    "This notebook presents a sentiment analysis exercise using Spanish text data. The goal is to explore how different sentences and news excerpts are classified in terms of sentiment polarity using the `sentiment-analysis-spanish` library."
   ]
  },
  {
   "cell_type": "code",
   "execution_count": null,
   "metadata": {},
   "outputs": [],
   "source": [
    "# !pip install nbconvert\n",
    "# !pip install unidecode\n",
    "# !python -m spacy download es_core_news_sm\n",
    "# !pip install sentiment-analysis-spanish\n"
   ]
  },
  {
   "cell_type": "code",
   "execution_count": null,
   "metadata": {},
   "outputs": [],
   "source": [
    "import pandas as pd\n",
    "import numpy as np\n",
    "from sklearn.feature_extraction.text import CountVectorizer\n",
    "import os\n",
    "import re\n",
    "import nltk\n",
    "import spacy\n",
    "import pandas as pd\n",
    "from nltk.corpus import stopwords\n",
    "from nltk.stem import WordNetLemmatizer\n",
    "from nltk.tokenize import word_tokenize\n",
    "from sklearn.feature_extraction.text import CountVectorizer, TfidfVectorizer\n",
    "from unidecode import unidecode\n",
    "import matplotlib.pyplot as plt\n",
    "import networkx as nx\n",
    "from wordcloud import WordCloud"
   ]
  },
  {
   "cell_type": "code",
   "execution_count": null,
   "metadata": {
    "colab": {
     "base_uri": "https://localhost:8080/"
    },
    "id": "-kqsNbWPtb3m",
    "outputId": "56aebf91-8811-4ed3-e89f-4ab7b1859ab7"
   },
   "outputs": [
    {
     "name": "stdout",
     "output_type": "stream",
     "text": [
      "Requirement already satisfied: nbconvert in /usr/local/lib/python3.10/dist-packages (6.5.4)\n",
      "Requirement already satisfied: lxml in /usr/local/lib/python3.10/dist-packages (from nbconvert) (4.9.3)\n",
      "Requirement already satisfied: beautifulsoup4 in /usr/local/lib/python3.10/dist-packages (from nbconvert) (4.11.2)\n",
      "Requirement already satisfied: bleach in /usr/local/lib/python3.10/dist-packages (from nbconvert) (6.0.0)\n",
      "Requirement already satisfied: defusedxml in /usr/local/lib/python3.10/dist-packages (from nbconvert) (0.7.1)\n",
      "Requirement already satisfied: entrypoints>=0.2.2 in /usr/local/lib/python3.10/dist-packages (from nbconvert) (0.4)\n",
      "Requirement already satisfied: jinja2>=3.0 in /usr/local/lib/python3.10/dist-packages (from nbconvert) (3.1.2)\n",
      "Requirement already satisfied: jupyter-core>=4.7 in /usr/local/lib/python3.10/dist-packages (from nbconvert) (5.3.1)\n",
      "Requirement already satisfied: jupyterlab-pygments in /usr/local/lib/python3.10/dist-packages (from nbconvert) (0.2.2)\n",
      "Requirement already satisfied: MarkupSafe>=2.0 in /usr/local/lib/python3.10/dist-packages (from nbconvert) (2.1.3)\n",
      "Requirement already satisfied: mistune<2,>=0.8.1 in /usr/local/lib/python3.10/dist-packages (from nbconvert) (0.8.4)\n",
      "Requirement already satisfied: nbclient>=0.5.0 in /usr/local/lib/python3.10/dist-packages (from nbconvert) (0.8.0)\n",
      "Requirement already satisfied: nbformat>=5.1 in /usr/local/lib/python3.10/dist-packages (from nbconvert) (5.9.2)\n",
      "Requirement already satisfied: packaging in /usr/local/lib/python3.10/dist-packages (from nbconvert) (23.1)\n",
      "Requirement already satisfied: pandocfilters>=1.4.1 in /usr/local/lib/python3.10/dist-packages (from nbconvert) (1.5.0)\n",
      "Requirement already satisfied: pygments>=2.4.1 in /usr/local/lib/python3.10/dist-packages (from nbconvert) (2.16.1)\n",
      "Requirement already satisfied: tinycss2 in /usr/local/lib/python3.10/dist-packages (from nbconvert) (1.2.1)\n",
      "Requirement already satisfied: traitlets>=5.0 in /usr/local/lib/python3.10/dist-packages (from nbconvert) (5.7.1)\n",
      "Requirement already satisfied: platformdirs>=2.5 in /usr/local/lib/python3.10/dist-packages (from jupyter-core>=4.7->nbconvert) (3.10.0)\n",
      "Requirement already satisfied: jupyter-client>=6.1.12 in /usr/local/lib/python3.10/dist-packages (from nbclient>=0.5.0->nbconvert) (6.1.12)\n",
      "Requirement already satisfied: fastjsonschema in /usr/local/lib/python3.10/dist-packages (from nbformat>=5.1->nbconvert) (2.18.0)\n",
      "Requirement already satisfied: jsonschema>=2.6 in /usr/local/lib/python3.10/dist-packages (from nbformat>=5.1->nbconvert) (4.19.0)\n",
      "Requirement already satisfied: soupsieve>1.2 in /usr/local/lib/python3.10/dist-packages (from beautifulsoup4->nbconvert) (2.5)\n",
      "Requirement already satisfied: six>=1.9.0 in /usr/local/lib/python3.10/dist-packages (from bleach->nbconvert) (1.16.0)\n",
      "Requirement already satisfied: webencodings in /usr/local/lib/python3.10/dist-packages (from bleach->nbconvert) (0.5.1)\n",
      "Requirement already satisfied: attrs>=22.2.0 in /usr/local/lib/python3.10/dist-packages (from jsonschema>=2.6->nbformat>=5.1->nbconvert) (23.1.0)\n",
      "Requirement already satisfied: jsonschema-specifications>=2023.03.6 in /usr/local/lib/python3.10/dist-packages (from jsonschema>=2.6->nbformat>=5.1->nbconvert) (2023.7.1)\n",
      "Requirement already satisfied: referencing>=0.28.4 in /usr/local/lib/python3.10/dist-packages (from jsonschema>=2.6->nbformat>=5.1->nbconvert) (0.30.2)\n",
      "Requirement already satisfied: rpds-py>=0.7.1 in /usr/local/lib/python3.10/dist-packages (from jsonschema>=2.6->nbformat>=5.1->nbconvert) (0.10.2)\n",
      "Requirement already satisfied: pyzmq>=13 in /usr/local/lib/python3.10/dist-packages (from jupyter-client>=6.1.12->nbclient>=0.5.0->nbconvert) (23.2.1)\n",
      "Requirement already satisfied: python-dateutil>=2.1 in /usr/local/lib/python3.10/dist-packages (from jupyter-client>=6.1.12->nbclient>=0.5.0->nbconvert) (2.8.2)\n",
      "Requirement already satisfied: tornado>=4.1 in /usr/local/lib/python3.10/dist-packages (from jupyter-client>=6.1.12->nbclient>=0.5.0->nbconvert) (6.3.2)\n",
      "Collecting unidecode\n",
      "  Downloading Unidecode-1.3.6-py3-none-any.whl (235 kB)\n",
      "\u001b[2K     \u001b[90m━━━━━━━━━━━━━━━━━━━━━━━━━━━━━━━━━━━━━━━\u001b[0m \u001b[32m235.9/235.9 kB\u001b[0m \u001b[31m2.0 MB/s\u001b[0m eta \u001b[36m0:00:00\u001b[0m\n",
      "\u001b[?25hInstalling collected packages: unidecode\n",
      "Successfully installed unidecode-1.3.6\n",
      "2023-09-24 09:40:47.423151: I tensorflow/core/platform/cpu_feature_guard.cc:182] This TensorFlow binary is optimized to use available CPU instructions in performance-critical operations.\n",
      "To enable the following instructions: AVX2 FMA, in other operations, rebuild TensorFlow with the appropriate compiler flags.\n",
      "2023-09-24 09:40:48.581065: W tensorflow/compiler/tf2tensorrt/utils/py_utils.cc:38] TF-TRT Warning: Could not find TensorRT\n",
      "Collecting es-core-news-sm==3.6.0\n",
      "  Downloading https://github.com/explosion/spacy-models/releases/download/es_core_news_sm-3.6.0/es_core_news_sm-3.6.0-py3-none-any.whl (12.9 MB)\n",
      "\u001b[2K     \u001b[90m━━━━━━━━━━━━━━━━━━━━━━━━━━━━━━━━━━━━━━━━\u001b[0m \u001b[32m12.9/12.9 MB\u001b[0m \u001b[31m76.7 MB/s\u001b[0m eta \u001b[36m0:00:00\u001b[0m\n",
      "\u001b[?25hRequirement already satisfied: spacy<3.7.0,>=3.6.0 in /usr/local/lib/python3.10/dist-packages (from es-core-news-sm==3.6.0) (3.6.1)\n",
      "Requirement already satisfied: spacy-legacy<3.1.0,>=3.0.11 in /usr/local/lib/python3.10/dist-packages (from spacy<3.7.0,>=3.6.0->es-core-news-sm==3.6.0) (3.0.12)\n",
      "Requirement already satisfied: spacy-loggers<2.0.0,>=1.0.0 in /usr/local/lib/python3.10/dist-packages (from spacy<3.7.0,>=3.6.0->es-core-news-sm==3.6.0) (1.0.4)\n",
      "Requirement already satisfied: murmurhash<1.1.0,>=0.28.0 in /usr/local/lib/python3.10/dist-packages (from spacy<3.7.0,>=3.6.0->es-core-news-sm==3.6.0) (1.0.9)\n",
      "Requirement already satisfied: cymem<2.1.0,>=2.0.2 in /usr/local/lib/python3.10/dist-packages (from spacy<3.7.0,>=3.6.0->es-core-news-sm==3.6.0) (2.0.7)\n",
      "Requirement already satisfied: preshed<3.1.0,>=3.0.2 in /usr/local/lib/python3.10/dist-packages (from spacy<3.7.0,>=3.6.0->es-core-news-sm==3.6.0) (3.0.8)\n",
      "Requirement already satisfied: thinc<8.2.0,>=8.1.8 in /usr/local/lib/python3.10/dist-packages (from spacy<3.7.0,>=3.6.0->es-core-news-sm==3.6.0) (8.1.12)\n",
      "Requirement already satisfied: wasabi<1.2.0,>=0.9.1 in /usr/local/lib/python3.10/dist-packages (from spacy<3.7.0,>=3.6.0->es-core-news-sm==3.6.0) (1.1.2)\n",
      "Requirement already satisfied: srsly<3.0.0,>=2.4.3 in /usr/local/lib/python3.10/dist-packages (from spacy<3.7.0,>=3.6.0->es-core-news-sm==3.6.0) (2.4.7)\n",
      "Requirement already satisfied: catalogue<2.1.0,>=2.0.6 in /usr/local/lib/python3.10/dist-packages (from spacy<3.7.0,>=3.6.0->es-core-news-sm==3.6.0) (2.0.9)\n",
      "Requirement already satisfied: typer<0.10.0,>=0.3.0 in /usr/local/lib/python3.10/dist-packages (from spacy<3.7.0,>=3.6.0->es-core-news-sm==3.6.0) (0.9.0)\n",
      "Requirement already satisfied: pathy>=0.10.0 in /usr/local/lib/python3.10/dist-packages (from spacy<3.7.0,>=3.6.0->es-core-news-sm==3.6.0) (0.10.2)\n",
      "Requirement already satisfied: smart-open<7.0.0,>=5.2.1 in /usr/local/lib/python3.10/dist-packages (from spacy<3.7.0,>=3.6.0->es-core-news-sm==3.6.0) (6.4.0)\n",
      "Requirement already satisfied: tqdm<5.0.0,>=4.38.0 in /usr/local/lib/python3.10/dist-packages (from spacy<3.7.0,>=3.6.0->es-core-news-sm==3.6.0) (4.66.1)\n",
      "Requirement already satisfied: numpy>=1.15.0 in /usr/local/lib/python3.10/dist-packages (from spacy<3.7.0,>=3.6.0->es-core-news-sm==3.6.0) (1.23.5)\n",
      "Requirement already satisfied: requests<3.0.0,>=2.13.0 in /usr/local/lib/python3.10/dist-packages (from spacy<3.7.0,>=3.6.0->es-core-news-sm==3.6.0) (2.31.0)\n",
      "Requirement already satisfied: pydantic!=1.8,!=1.8.1,<3.0.0,>=1.7.4 in /usr/local/lib/python3.10/dist-packages (from spacy<3.7.0,>=3.6.0->es-core-news-sm==3.6.0) (1.10.12)\n",
      "Requirement already satisfied: jinja2 in /usr/local/lib/python3.10/dist-packages (from spacy<3.7.0,>=3.6.0->es-core-news-sm==3.6.0) (3.1.2)\n",
      "Requirement already satisfied: setuptools in /usr/local/lib/python3.10/dist-packages (from spacy<3.7.0,>=3.6.0->es-core-news-sm==3.6.0) (67.7.2)\n",
      "Requirement already satisfied: packaging>=20.0 in /usr/local/lib/python3.10/dist-packages (from spacy<3.7.0,>=3.6.0->es-core-news-sm==3.6.0) (23.1)\n",
      "Requirement already satisfied: langcodes<4.0.0,>=3.2.0 in /usr/local/lib/python3.10/dist-packages (from spacy<3.7.0,>=3.6.0->es-core-news-sm==3.6.0) (3.3.0)\n",
      "Requirement already satisfied: typing-extensions>=4.2.0 in /usr/local/lib/python3.10/dist-packages (from pydantic!=1.8,!=1.8.1,<3.0.0,>=1.7.4->spacy<3.7.0,>=3.6.0->es-core-news-sm==3.6.0) (4.5.0)\n",
      "Requirement already satisfied: charset-normalizer<4,>=2 in /usr/local/lib/python3.10/dist-packages (from requests<3.0.0,>=2.13.0->spacy<3.7.0,>=3.6.0->es-core-news-sm==3.6.0) (3.2.0)\n",
      "Requirement already satisfied: idna<4,>=2.5 in /usr/local/lib/python3.10/dist-packages (from requests<3.0.0,>=2.13.0->spacy<3.7.0,>=3.6.0->es-core-news-sm==3.6.0) (3.4)\n",
      "Requirement already satisfied: urllib3<3,>=1.21.1 in /usr/local/lib/python3.10/dist-packages (from requests<3.0.0,>=2.13.0->spacy<3.7.0,>=3.6.0->es-core-news-sm==3.6.0) (2.0.4)\n",
      "Requirement already satisfied: certifi>=2017.4.17 in /usr/local/lib/python3.10/dist-packages (from requests<3.0.0,>=2.13.0->spacy<3.7.0,>=3.6.0->es-core-news-sm==3.6.0) (2023.7.22)\n",
      "Requirement already satisfied: blis<0.8.0,>=0.7.8 in /usr/local/lib/python3.10/dist-packages (from thinc<8.2.0,>=8.1.8->spacy<3.7.0,>=3.6.0->es-core-news-sm==3.6.0) (0.7.10)\n",
      "Requirement already satisfied: confection<1.0.0,>=0.0.1 in /usr/local/lib/python3.10/dist-packages (from thinc<8.2.0,>=8.1.8->spacy<3.7.0,>=3.6.0->es-core-news-sm==3.6.0) (0.1.2)\n",
      "Requirement already satisfied: click<9.0.0,>=7.1.1 in /usr/local/lib/python3.10/dist-packages (from typer<0.10.0,>=0.3.0->spacy<3.7.0,>=3.6.0->es-core-news-sm==3.6.0) (8.1.7)\n",
      "Requirement already satisfied: MarkupSafe>=2.0 in /usr/local/lib/python3.10/dist-packages (from jinja2->spacy<3.7.0,>=3.6.0->es-core-news-sm==3.6.0) (2.1.3)\n",
      "Installing collected packages: es-core-news-sm\n",
      "Successfully installed es-core-news-sm-3.6.0\n",
      "\u001b[38;5;2m✔ Download and installation successful\u001b[0m\n",
      "You can now load the package via spacy.load('es_core_news_sm')\n"
     ]
    },
    {
     "name": "stderr",
     "output_type": "stream",
     "text": [
      "[nltk_data] Downloading package stopwords to /root/nltk_data...\n",
      "[nltk_data]   Unzipping corpora/stopwords.zip.\n",
      "[nltk_data] Downloading package punkt to /root/nltk_data...\n",
      "[nltk_data]   Unzipping tokenizers/punkt.zip.\n"
     ]
    }
   ],
   "source": [
    "nltk.download('stopwords')\n",
    "nltk.download('punkt')\n",
    "\n",
    "# Carga el modelo en español de spaCy\n",
    "nlp = spacy.load(\"es_core_news_sm\")\n",
    "def preprocess_text(text):\n",
    "    # Eliminar signos de puntuación y números\n",
    "    text = re.sub(r'[^\\w\\s]', '', text)\n",
    "    text = re.sub(r'\\d+', '', text) #elimina numeros\n",
    "    # Convertir a minúsculas\n",
    "    text = text.lower()\n",
    "    # Normalizar palabras para quitar tildes\n",
    "    text = unidecode(text)\n",
    "    # Tokeniza el texto\n",
    "    tokens = word_tokenize(text)\n",
    "    tokens = [token for token in tokens if len(token) > 2] #pasa de un texto a palabras tokens\n",
    "    # Obtiene las stopwords en español\n",
    "    stopwords_es = set(stopwords.words(\"spanish\")) #palabras que no significan nada como preposiciones\n",
    "    # Filtra las stopwords\n",
    "    tokens_filtrados = [token for token in tokens if token not in stopwords_es]\n",
    "    # Lematiza el texto usando spaCy\n",
    "    tokens_normalizados = [token.lemma_ for token in nlp(\" \".join(tokens_filtrados))] #se queda con la raiz de las palabras\n",
    "    return tokens_normalizados"
   ]
  },
  {
   "cell_type": "code",
   "execution_count": null,
   "metadata": {
    "colab": {
     "base_uri": "https://localhost:8080/"
    },
    "id": "D8DSuAsa4Pca",
    "outputId": "4ca18da5-c2bd-463f-ce34-e7173cc677a9"
   },
   "outputs": [
    {
     "name": "stdout",
     "output_type": "stream",
     "text": [
      "Collecting sentiment-analysis-spanish\n",
      "  Downloading sentiment_analysis_spanish-0.0.25-py3-none-any.whl (30.0 MB)\n",
      "\u001b[2K     \u001b[90m━━━━━━━━━━━━━━━━━━━━━━━━━━━━━━━━━━━━━━━━\u001b[0m \u001b[32m30.0/30.0 MB\u001b[0m \u001b[31m16.2 MB/s\u001b[0m eta \u001b[36m0:00:00\u001b[0m\n",
      "\u001b[?25hInstalling collected packages: sentiment-analysis-spanish\n",
      "Successfully installed sentiment-analysis-spanish-0.0.25\n"
     ]
    }
   ],
   "source": []
  },
  {
   "cell_type": "code",
   "execution_count": null,
   "metadata": {
    "colab": {
     "base_uri": "https://localhost:8080/"
    },
    "id": "ykdpbKUv4nps",
    "outputId": "a8b633a1-6a92-4f70-a0d8-3b80c31ae98f"
   },
   "outputs": [
    {
     "name": "stdout",
     "output_type": "stream",
     "text": [
      "Requirement already satisfied: sentiment-analysis-spanish in /usr/local/lib/python3.10/dist-packages (0.0.25)\n"
     ]
    }
   ],
   "source": []
  },
  {
   "cell_type": "code",
   "execution_count": null,
   "metadata": {
    "id": "5oUFObRQ4vZ-"
   },
   "outputs": [],
   "source": [
    "from sentiment_analysis_spanish import sentiment_analysis"
   ]
  },
  {
   "cell_type": "code",
   "execution_count": null,
   "metadata": {
    "id": "fAz7FBeNs7lu"
   },
   "outputs": [],
   "source": [
    "frase = \"Me encanta lo que hace el candidato del partido azul. Vota por el partido azul\"\n",
    "type(frase)\n",
    "documents = []\n",
    "text = frase\n",
    "preprocessed_text = preprocess_text(text)\n",
    "documents.append(' '.join(preprocessed_text))"
   ]
  },
  {
   "cell_type": "code",
   "execution_count": null,
   "metadata": {
    "id": "XxSmXXcCtQbn"
   },
   "outputs": [],
   "source": [
    "print(documents)"
   ]
  },
  {
   "cell_type": "code",
   "execution_count": null,
   "metadata": {
    "colab": {
     "base_uri": "https://localhost:8080/"
    },
    "id": "8vi2CAvZ4zyH",
    "outputId": "2dc48b89-00f4-4168-8ec0-74c6bc505fb7"
   },
   "outputs": [
    {
     "name": "stdout",
     "output_type": "stream",
     "text": [
      "0.7385531066518927\n"
     ]
    },
    {
     "name": "stderr",
     "output_type": "stream",
     "text": [
      "/usr/local/lib/python3.10/dist-packages/sklearn/base.py:318: UserWarning: Trying to unpickle estimator CountVectorizer from version 0.23.2 when using version 1.2.2. This might lead to breaking code or invalid results. Use at your own risk. For more info please refer to:\n",
      "https://scikit-learn.org/stable/model_persistence.html#security-maintainability-limitations\n",
      "  warnings.warn(\n",
      "/usr/local/lib/python3.10/dist-packages/sklearn/base.py:318: UserWarning: Trying to unpickle estimator MultinomialNB from version 0.23.2 when using version 1.2.2. This might lead to breaking code or invalid results. Use at your own risk. For more info please refer to:\n",
      "https://scikit-learn.org/stable/model_persistence.html#security-maintainability-limitations\n",
      "  warnings.warn(\n"
     ]
    }
   ],
   "source": [
    "sentiment = sentiment_analysis.SentimentAnalysisSpanish()\n",
    "print(sentiment.sentiment('encanta hacer candidato partido azul votar partido azul'))"
   ]
  },
  {
   "cell_type": "code",
   "execution_count": null,
   "metadata": {
    "id": "-xKcxrnm6Q3U"
   },
   "outputs": [],
   "source": [
    "frase = \"El éxito no es la clave de la felicidad. La felicidad es la clave del éxito. Si amas lo que haces, serás exitoso.\"\n",
    "type(frase)\n",
    "documents = []\n",
    "text = frase\n",
    "preprocessed_text = preprocess_text(text)\n",
    "documents.append(' '.join(preprocessed_text))"
   ]
  },
  {
   "cell_type": "code",
   "execution_count": null,
   "metadata": {
    "colab": {
     "base_uri": "https://localhost:8080/"
    },
    "id": "Mus_c4ol7pXg",
    "outputId": "4daf43e0-9d6f-4659-a783-d77fb207616b"
   },
   "outputs": [
    {
     "name": "stdout",
     "output_type": "stream",
     "text": [
      "['exito clave felicidad felicidad clave exito ama haz sera exitoso']\n"
     ]
    }
   ],
   "source": [
    "print(documents)"
   ]
  },
  {
   "cell_type": "code",
   "execution_count": null,
   "metadata": {
    "colab": {
     "base_uri": "https://localhost:8080/"
    },
    "id": "2xLkFwBQ7x7J",
    "outputId": "1198ce48-5020-41f7-e0cb-fef217a6c7c4"
   },
   "outputs": [
    {
     "name": "stdout",
     "output_type": "stream",
     "text": [
      "0.49789225920557484\n"
     ]
    }
   ],
   "source": [
    "sentiment = sentiment_analysis.SentimentAnalysisSpanish()\n",
    "print(sentiment.sentiment('exito clave felicidad felicidad clave exito ama haz sera exitoso'))"
   ]
  },
  {
   "cell_type": "code",
   "execution_count": null,
   "metadata": {
    "id": "N1Qy3nK086-T"
   },
   "outputs": [],
   "source": [
    "frase = \"Cuando sabes el momento para irse, cuando sabes que es la hora de marchar como la brisa del verano\"\n",
    "type(frase)\n",
    "documents = []\n",
    "text = frase\n",
    "preprocessed_text = preprocess_text(text)\n",
    "documents.append(' '.join(preprocessed_text))"
   ]
  },
  {
   "cell_type": "code",
   "execution_count": null,
   "metadata": {
    "colab": {
     "base_uri": "https://localhost:8080/"
    },
    "id": "TG80p8tv9bAK",
    "outputId": "2578a277-508a-4381-ff38-d95ddd561cc9"
   },
   "outputs": [
    {
     "name": "stdout",
     "output_type": "stream",
     "text": [
      "['saber momento ir él saber hora marchar brís verano']\n"
     ]
    }
   ],
   "source": [
    "print(documents)"
   ]
  },
  {
   "cell_type": "code",
   "execution_count": null,
   "metadata": {
    "colab": {
     "base_uri": "https://localhost:8080/"
    },
    "id": "6FHHLnXc9u9a",
    "outputId": "6dacce4e-c4bb-4b4b-b173-6786f07ccbbf"
   },
   "outputs": [
    {
     "name": "stdout",
     "output_type": "stream",
     "text": [
      "0.006057118327006699\n"
     ]
    }
   ],
   "source": [
    "sentiment = sentiment_analysis.SentimentAnalysisSpanish()\n",
    "print(sentiment.sentiment('saber momento ir él saber hora marchar brís verano'))"
   ]
  },
  {
   "cell_type": "code",
   "execution_count": null,
   "metadata": {
    "id": "JgHv0gkH-6U2"
   },
   "outputs": [],
   "source": [
    "frase = \"Me libero y nos dejo en ruinas. Tomo la daga que hay en mí y la saco. Tuve un peso más contigo, pero lo voy a perder; créeme, lo puedo hacer. Si todo son imaginaciones mías, dímelo. Dime que estoy equivocada. Mi amor debería ser celebrado, pero tú lo toleras.\"\n",
    "type(frase)\n",
    "documents = []\n",
    "text = frase\n",
    "preprocessed_text = preprocess_text(text)\n",
    "documents.append(' '.join(preprocessed_text))"
   ]
  },
  {
   "cell_type": "code",
   "execution_count": null,
   "metadata": {
    "colab": {
     "base_uri": "https://localhost:8080/"
    },
    "id": "i5510OUA_EHB",
    "outputId": "9a8c69a7-8940-4e5d-ecb3-bc79c20bbb1f"
   },
   "outputs": [
    {
     "name": "stdout",
     "output_type": "stream",
     "text": [
      "['libero dejar ruina tomo dacer saco peso mas contigo ir perder creeme poder hacer imaginación mia dimelo dimir equivocado amor deberio ser celebrar tolera']\n"
     ]
    }
   ],
   "source": [
    "print(documents)"
   ]
  },
  {
   "cell_type": "code",
   "execution_count": null,
   "metadata": {
    "colab": {
     "base_uri": "https://localhost:8080/"
    },
    "id": "HFJq1DjG_s0n",
    "outputId": "71acc0fa-266c-4de3-ab86-06cd5c446715"
   },
   "outputs": [
    {
     "name": "stdout",
     "output_type": "stream",
     "text": [
      "0.0016493253882511963\n"
     ]
    }
   ],
   "source": [
    "sentiment = sentiment_analysis.SentimentAnalysisSpanish()\n",
    "print(sentiment.sentiment('libero dejar ruina tomo dacer saco peso mas contigo ir perder creeme poder hacer imaginación mia dimelo dimir equivocado amor deberio ser celebrar tolera'))"
   ]
  },
  {
   "cell_type": "code",
   "execution_count": null,
   "metadata": {
    "id": "DZG7argaAjeg"
   },
   "outputs": [],
   "source": [
    "noticia = \"Va a empeorar.Las previsiones de inflación, que parecen desmesuradamente optimistas, y la situación de los ingresos también preocupan a los especialistas. El año que viene puede ser mucho más duro para los ciudadanos y la economía del país en su conjunto, advierte Ruslan Grinberg, director del Instituto de Economía de la Academia Rusa de las Ciencias: Creo que será peor, porque (eso) se ve en la balanza comercial. En primer lugar, vemos que los ingresos por exportación están disminuyendo seriamente. Y los ingresos por exportación de petróleo son nuestra fuente de ingresos más importante. Estos ingresos ya han disminuido entre un 40% y un 45%, y parece que esta tendencia va a continuar.Greenberg llama la atención sobre la baja tasa media de crecimiento anual de la economía rusa en las dos últimas décadas, en comparación con otros países y regiones, como Estados Unidos y la UE. Lo atribuye a la política de las autoridades, que tienden a interferir activamente en los procesos económicos y a recurrir a la regulación manual\"\n",
    "documents = []\n",
    "text = noticia\n",
    "preprocessed_text = preprocess_text(text)\n",
    "documents.append(' '.join(preprocessed_text))"
   ]
  },
  {
   "cell_type": "code",
   "execution_count": null,
   "metadata": {
    "colab": {
     "base_uri": "https://localhost:8080/"
    },
    "id": "CwmCsH_jB9d6",
    "outputId": "d594d162-1515-40d1-f8ca-6ce7768e27a6"
   },
   "outputs": [
    {
     "name": "stdout",
     "output_type": "stream",
     "text": [
      "['empeorarlos previsión inflacion parecer desmesuradamente optimista situacion ingreso tambien preocupar especialista ano venir poder ser mas duro ciudadano economiar pais conjunto advertir ruslar grinberg director instituto economia academia ruso ciencias creer sera peor balanza comercial primero lugar ver ingreso exportacion estar disminuir seriamente ingreso exportacion petroleo fuente ingreso mas importante ingreso disminuido parecer tendencia continuargreenberg llama atencion bajo tasa medio crecimiento anual economia ruso dos ultima decada comparacion país región unidos atribuir politico autoridad tender interferir activamente proceso economico recurrir regulacion manual']\n"
     ]
    }
   ],
   "source": [
    "print(documents)"
   ]
  },
  {
   "cell_type": "code",
   "execution_count": null,
   "metadata": {
    "colab": {
     "base_uri": "https://localhost:8080/"
    },
    "id": "EVqmrzVyCDLj",
    "outputId": "eb82691a-e785-4b4e-d2b1-878781353a73"
   },
   "outputs": [
    {
     "name": "stdout",
     "output_type": "stream",
     "text": [
      "1.3310289447890712e-07\n"
     ]
    }
   ],
   "source": [
    "sentiment = sentiment_analysis.SentimentAnalysisSpanish()\n",
    "print(sentiment.sentiment('empeorarlos previsión inflacion parecer desmesuradamente optimista situacion ingreso tambien preocupar especialista ano venir poder ser mas duro ciudadano economiar pais conjunto advertir ruslar grinberg director instituto economia academia ruso ciencias creer sera peor balanza comercial primero lugar ver ingreso exportacion estar disminuir seriamente ingreso exportacion petroleo fuente ingreso mas importante ingreso disminuido parecer tendencia continuargreenberg llama atencion bajo tasa medio crecimiento anual economia ruso dos ultima decada comparacion país región unidos atribuir politico autoridad tender interferir activamente proceso economico recurrir regulacion manual'))"
   ]
  },
  {
   "cell_type": "code",
   "execution_count": null,
   "metadata": {
    "id": "aaLKuJiQEH_9"
   },
   "outputs": [],
   "source": [
    "noticia = \"La ruptura de Rosalía (30 años) y Rauw Alejandro (30) supuso un gran revés para los fans de la pareja, una noticia que llegaba de sorpresa y como un jarro de agua fría meses después de anunciar su compromiso y fortalecer su amor. Era una de las relaciones públicas más asentadas y queridas desde 2021. Desde que han decidido seguir caminos distintos, los ojos de sus fieles fans han estado centrados en ellos, en cualquier movimiento o gesto por parte de ambos. La razón de su separación se desconoce, por lo que saber qué ha pasado entre los exitosos cantantes y si hay una mínima posibilidad de que se reconcilien aún es un misterio.\"\n",
    "documents = []\n",
    "text = noticia\n",
    "preprocessed_text = preprocess_text(text)\n",
    "documents.append(' '.join(preprocessed_text))"
   ]
  },
  {
   "cell_type": "code",
   "execution_count": null,
   "metadata": {
    "colab": {
     "base_uri": "https://localhost:8080/"
    },
    "id": "J-3H5aiGEa_a",
    "outputId": "26856e52-b05a-4c77-dfc1-e4c134fef8f8"
   },
   "outputs": [
    {
     "name": "stdout",
     "output_type": "stream",
     "text": [
      "['ruptura rosalia ano rauw alejandro suponer gran rev fan parejo noticia llegar sorpresa jarro agua frio mes despues anunciar compromiso fortalecer amor relación publica mas asentado querido decidido seguir camino distinto ojo fiel fan centrado cualquiera movimiento gesto parte ambos razon separacion desconocer saber pasar exitoso cantante minimo posibilidad reconcilien aun misterio']\n"
     ]
    }
   ],
   "source": [
    "print(documents)"
   ]
  },
  {
   "cell_type": "code",
   "execution_count": null,
   "metadata": {
    "colab": {
     "base_uri": "https://localhost:8080/"
    },
    "id": "phpNLP-HErf5",
    "outputId": "28ad7990-fa99-4620-d187-9d93385a2641"
   },
   "outputs": [
    {
     "name": "stdout",
     "output_type": "stream",
     "text": [
      "0.0016473723778829418\n"
     ]
    }
   ],
   "source": [
    "sentiment = sentiment_analysis.SentimentAnalysisSpanish()\n",
    "print(sentiment.sentiment('ruptura rosalia ano rauw alejandro suponer gran rev fan parejo noticia llegar sorpresa jarro agua frio mes despues anunciar compromiso fortalecer amor relación publica mas asentado querido decidido seguir camino distinto ojo fiel fan centrado cualquiera movimiento gesto parte ambos razon separacion desconocer saber pasar exitoso cantante minimo posibilidad reconcilien aun misterio'))"
   ]
  },
  {
   "cell_type": "code",
   "execution_count": null,
   "metadata": {
    "id": "elNibPUFa0li"
   },
   "outputs": [],
   "source": [
    "noticia = \"El bono social eléctrico se ha convertido en un salvavidas para muchos jubilados y pensionistas en tiempos de creciente inflación. Este descuento en la factura de la electricidad, que ha aumentado hasta un 80% para aquellos en extrema vulnerabilidad, es un alivio bienvenido en medio de la incertidumbre económica.Sin embargo, para acceder a estos descuentos, los requisitos son estrictos. Los jubilados y pensionistas deben cumplir con ciertas condiciones de renta y situación personal, como tener una pensión mínima y no recibir otros ingresos que superen los 500 euros al año. Para solicitar el bono social, los jubilados y pensionistas deben comunicarse con las comercializadoras de referencia y presentar una serie de documentos que acrediten su situación. Aunque estos requisitos pueden parecer complicados, el bono social se ha convertido en una herramienta esencial para proteger a las personas mayores de la creciente presión económica.\"\n",
    "documents = []\n",
    "text = noticia\n",
    "preprocessed_text = preprocess_text(text)\n",
    "documents.append(' '.join(preprocessed_text))"
   ]
  },
  {
   "cell_type": "code",
   "execution_count": null,
   "metadata": {
    "colab": {
     "base_uri": "https://localhost:8080/"
    },
    "id": "9w2qlYX3eDxN",
    "outputId": "647ba278-af65-498d-8c6d-483519423165"
   },
   "outputs": [
    {
     "name": "stdout",
     "output_type": "stream",
     "text": [
      "['bono social electrico convertido salvavidas jubilado pensionista tiempo creciente inflacion descuento facturo electricidad aumentado aquel extremo vulnerabilidad alivio bienvenido medio incertidumbre economicasin embargo acceder descuento requisito estricto jubilado pensionista deber cumplir cierto condición renta situacion personal tener pension minimo recibir ingreso superir euros ano solicitar bono social jubilado pensionista deber comunicar él comercializadora referencia presentar serie documento acreditar situacion aunque requisito poder parecer complicado bono social convertido herramienta esencial proteger persona mayor creciente presion economico']\n"
     ]
    }
   ],
   "source": [
    "print(documents)"
   ]
  },
  {
   "cell_type": "code",
   "execution_count": null,
   "metadata": {
    "colab": {
     "base_uri": "https://localhost:8080/"
    },
    "id": "Pm__1no7fG1E",
    "outputId": "903effa6-8b91-420d-8a51-116ac400d75b"
   },
   "outputs": [
    {
     "name": "stdout",
     "output_type": "stream",
     "text": [
      "2.915944160705166e-05\n"
     ]
    }
   ],
   "source": [
    "sentiment = sentiment_analysis.SentimentAnalysisSpanish()\n",
    "print(sentiment.sentiment('bono social electrico convertido salvavidas jubilado pensionista tiempo creciente inflacion descuento facturo electricidad aumentado aquel extremo vulnerabilidad alivio bienvenido medio incertidumbre economicasin embargo acceder descuento requisito estricto jubilado pensionista deber cumplir cierto condición renta situacion personal tener pension minimo recibir ingreso superir euros ano solicitar bono social jubilado pensionista deber comunicar él comercializadora referencia presentar serie documento acreditar situacion aunque requisito poder parecer complicado bono social convertido herramienta esencial proteger persona mayor creciente presion economico'))"
   ]
  },
  {
   "cell_type": "code",
   "execution_count": null,
   "metadata": {
    "id": "cox7ZMTkFU5N"
   },
   "outputs": [],
   "source": [
    "noticia = \"En el reino animal, hay muchas especies fascinantes y únicas, pero ninguna tan encantadora como el quokka, un marsupial australiano conocido como el 'animal más feliz del mundo' debido a su aparente sonrisa perpetua. Este pequeño marsupial ha ganado fama mundial gracias a su rostro amigable y su naturaleza sociable, convirtiéndose en un fenómeno en las redes sociales. En esta noticia, exploraremos las características, historia y conservación de este adorable animal.\"\n",
    "documents = []\n",
    "text = noticia\n",
    "preprocessed_text = preprocess_text(text)\n",
    "documents.append(' '.join(preprocessed_text))"
   ]
  },
  {
   "cell_type": "code",
   "execution_count": null,
   "metadata": {
    "id": "IifOMPfG3uin"
   },
   "outputs": [],
   "source": []
  },
  {
   "cell_type": "code",
   "execution_count": null,
   "metadata": {
    "colab": {
     "base_uri": "https://localhost:8080/"
    },
    "id": "1d8i1REuFW5O",
    "outputId": "b9eb8c27-4661-45d0-ad46-62b26d535ef5"
   },
   "outputs": [
    {
     "name": "stdout",
     "output_type": "stream",
     "text": [
      "['reino animal mucho especie fascinante unica ninguno tanto encantador quokka marsupial australiano conocido animal mas feliz mundo debido aparente sonrisa perpetuo pequeno marsupial ganado fama mundial gracias rostro amigable naturaleza sociable convirtiendose fenomeno red social noticia explorarer caracteristica historia conservacion adorable animal']\n"
     ]
    }
   ],
   "source": [
    "print(documents)"
   ]
  },
  {
   "cell_type": "code",
   "execution_count": null,
   "metadata": {
    "colab": {
     "base_uri": "https://localhost:8080/"
    },
    "id": "eiv9UQU-FaJ6",
    "outputId": "51af39c2-3b12-4a5e-80fb-c07bd3787b40"
   },
   "outputs": [
    {
     "name": "stdout",
     "output_type": "stream",
     "text": [
      "0.09206896084960411\n"
     ]
    }
   ],
   "source": [
    "sentiment = sentiment_analysis.SentimentAnalysisSpanish()\n",
    "print(sentiment.sentiment('reino animal mucho especie fascinante unica ninguno tanto encantador quokka marsupial australiano conocido animal mas feliz mundo debido aparente sonrisa perpetuo pequeno marsupial ganado fama mundial gracias rostro amigable naturaleza sociable convirtiendose fenomeno red social noticia explorarer caracteristica historia conservacion adorable animal'))"
   ]
  },
  {
   "cell_type": "code",
   "execution_count": null,
   "metadata": {
    "id": "y7sPE-3doz9M"
   },
   "outputs": [],
   "source": [
    "noticia = \"El FC Barcelona ha remontado al Celta de Vigo con un tanto de João Cancelo sobre el final, después de haber estado abajo por dos goles en el marcador. Primero, Larsen venció a Ter Stegen con un disparo a segundo poste y después Douvikas hizo lo propio en un contragolpe para ampliar la ventaja en el Lluís Companys. Lewandowski marcó un doblete para regresar a los suyos al partido y Cancelo concretó la voltereta. Los culés han superado al conjunto gallego y confirman el momento dulce que viven: el equipo venía de anotar diez goles en los últimos dos partidos y ahora consigue una gran remontada en casa. Con esto, el FC Barcelona sigue de cerca al Real Madrid en la cima de la clasificación.La 'lusofonía' se adueña del Barça. Una vez más, Joao Félix y Joao Cancelo han sido determinantes en el resultado conseguido por el Barcelona. El futbolista cedido por el Atlético de Madrid ha generado cinco goles en sus tres titularidades (tres dianas y dos asistencias), mientras que el jugador cedido por el Manchester City ha participado en tres, viendo portería rival en dos ocasiones y proporcionando una asistencia en sus tres titularidades. El estado de gracia sigue acompañando a un Barcelona que suma alegría tras alegría. A pesar del sufrimiento, las formas conseguidas para ganar el duelo liguero tras el compromiso de Liga de Campeones refuerza el hambre y la capacidad de superación de los blaugranas. Desde que firmó tablas contra el Getafe en la primera jornada (0-0 a mediados de agosto), ha ganado cada uno de los seis partidos que ha disputado entre todas las competiciones.El muro levantado por Rafa Benítez en Montjuic ha durado 80 minutos de juego, coincidiendo con la salida del campo de Iago Aspas. La gestión de cambios de Rafa Benítez, mandando un mensaje de tener ganado el encuentro tras el tanto de Douvikas, no tuvo sus frutos en un equipo que se desmoronó a las primeras de cambio. El primer gol encajado generó dudas en un grupo que no mantuvo la calma ni controló su estado emocional, precipitándose, llegando tarde y dejando todos los huecos que no permitió durante buena parte del encuentro.\"\n",
    "documents = []\n",
    "text = noticia\n",
    "preprocessed_text = preprocess_text(text)\n",
    "documents.append(' '.join(preprocessed_text))"
   ]
  },
  {
   "cell_type": "code",
   "execution_count": null,
   "metadata": {
    "colab": {
     "base_uri": "https://localhost:8080/"
    },
    "id": "2T9gNlrTpG4K",
    "outputId": "263a9953-4005-47f0-d4c0-2592926ddc76"
   },
   "outputs": [
    {
     "name": "stdout",
     "output_type": "stream",
     "text": [
      "['barcelona remontado celta vigo joao cancelo final despues haber abajo dos gol marcador primero larsen vencio ter stegir disparo segundo poste despues douvikas hacer propio contragolpe ampliar ventaja lluis companys lewandowski marco doblete regresar partido cancelo concreto voltereta cul superado conjunto gallego confirmar momento dulce vivir equipo venia anotar diez gol ultimos dos partido ahora conseguir gran remontado casa barcelona seguir cerca real madrid cima clasificacionla lusofonia aduenar barca vez mas joao felix joao cancelo ser determinantes resultado conseguido barcelona futbolista cedido atletico madrid generado cinco gol tres titularidad tres diana dos asistencia mientras jugador cedido manchester city participado tres viendo porteria rival dos ocasión proporcionar asistencia tres titularidad gracia seguir acompanar barcelona sumar alegrio tras alegrio pesar sufrimiento forma conseguido ganar duelo liguero tras compromiso liga campeón refuerzo hambre capacidad superacion blaugrana firmo tabla getafe primero jornada mediados agosto ganado cada seis partido disputado todo competicionesel muro levantado rafa benitez montjuic durado minuto juego coincidir salido campo iago aspa gestion cambio rafo benitez mandar mensaje tener ganado encuentro tras douvikas fruto equipo desmorono primero cambio primero gol encajado genero duda grupo mantener calma controlo emocional precipitar él llegar tarde dejar hueco permitio buen parte encontrar']\n"
     ]
    }
   ],
   "source": [
    "print(documents)"
   ]
  },
  {
   "cell_type": "code",
   "execution_count": null,
   "metadata": {
    "colab": {
     "base_uri": "https://localhost:8080/"
    },
    "id": "mmroYLwNpViu",
    "outputId": "2edf4c16-b617-4ee0-eef9-8154a61bb49b"
   },
   "outputs": [
    {
     "name": "stdout",
     "output_type": "stream",
     "text": [
      "3.715213686910893e-10\n"
     ]
    }
   ],
   "source": [
    "sentiment = sentiment_analysis.SentimentAnalysisSpanish()\n",
    "print(sentiment.sentiment('barcelona remontado celta vigo joao cancelo final despues haber abajo dos gol marcador primero larsen vencio ter stegir disparo segundo poste despues douvikas hacer propio contragolpe ampliar ventaja lluis companys lewandowski marco doblete regresar partido cancelo concreto voltereta cul superado conjunto gallego confirmar momento dulce vivir equipo venia anotar diez gol ultimos dos partido ahora conseguir gran remontado casa barcelona seguir cerca real madrid cima clasificacionla lusofonia aduenar barca vez mas joao felix joao cancelo ser determinantes resultado conseguido barcelona futbolista cedido atletico madrid generado cinco gol tres titularidad tres diana dos asistencia mientras jugador cedido manchester city participado tres viendo porteria rival dos ocasión proporcionar asistencia tres titularidad gracia seguir acompanar barcelona sumar alegrio tras alegrio pesar sufrimiento forma conseguido ganar duelo liguero tras compromiso liga campeón refuerzo hambre capacidad superacion blaugrana firmo tabla getafe primero jornada mediados agosto ganado cada seis partido disputado todo competicionesel muro levantado rafa benitez montjuic durado minuto juego coincidir salido campo iago aspa gestion cambio rafo benitez mandar mensaje tener ganado encuentro tras douvikas fruto equipo desmorono primero cambio primero gol encajado genero duda grupo mantener calma controlo emocional precipitar él llegar tarde dejar hueco permitio buen parte encontrar'))"
   ]
  }
 ],
 "metadata": {
  "colab": {
   "provenance": []
  },
  "kernelspec": {
   "display_name": "Python 3 (ipykernel)",
   "language": "python",
   "name": "python3"
  },
  "language_info": {
   "codemirror_mode": {
    "name": "ipython",
    "version": 3
   },
   "file_extension": ".py",
   "mimetype": "text/x-python",
   "name": "python",
   "nbconvert_exporter": "python",
   "pygments_lexer": "ipython3",
   "version": "3.9.6"
  }
 },
 "nbformat": 4,
 "nbformat_minor": 4
}
